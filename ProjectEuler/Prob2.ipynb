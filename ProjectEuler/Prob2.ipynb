{
 "cells": [
  {
   "cell_type": "markdown",
   "id": "3624757c-b8cd-4ad1-8d15-cedc45c83384",
   "metadata": {},
   "source": [
    "While we compute the fibonnaci sequence there's no need to store every value  \n",
    "Instead, just check to see if number is even"
   ]
  },
  {
   "cell_type": "code",
   "execution_count": 3,
   "id": "24f06856-e2fb-480b-beea-3227673ce892",
   "metadata": {},
   "outputs": [],
   "source": [
    "num1 = 1\n",
    "num2 = 2\n",
    "even = [2]\n",
    "while num2 < 4e6:\n",
    "    _ = num2\n",
    "    num2 = num1 + num2\n",
    "    num1 = _\n",
    "    if num2%2 == 0:\n",
    "        even.append(num2)\n",
    "    "
   ]
  },
  {
   "cell_type": "code",
   "execution_count": 6,
   "id": "f51275e0-40b0-4bb6-8dbb-440fce93d4b6",
   "metadata": {},
   "outputs": [
    {
     "name": "stdout",
     "output_type": "stream",
     "text": [
      "4613732\n"
     ]
    }
   ],
   "source": [
    "print(sum(even))"
   ]
  },
  {
   "cell_type": "code",
   "execution_count": null,
   "id": "c2249f2f-c331-4776-a1f0-6d8fc6c8455b",
   "metadata": {},
   "outputs": [],
   "source": []
  }
 ],
 "metadata": {
  "kernelspec": {
   "display_name": "Python 3 (ipykernel)",
   "language": "python",
   "name": "python3"
  },
  "language_info": {
   "codemirror_mode": {
    "name": "ipython",
    "version": 3
   },
   "file_extension": ".py",
   "mimetype": "text/x-python",
   "name": "python",
   "nbconvert_exporter": "python",
   "pygments_lexer": "ipython3",
   "version": "3.11.5"
  }
 },
 "nbformat": 4,
 "nbformat_minor": 5
}
