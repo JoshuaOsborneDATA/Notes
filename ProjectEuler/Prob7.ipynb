{
 "cells": [
  {
   "cell_type": "markdown",
   "id": "90101c2b-e523-465b-a576-dd1c3b275867",
   "metadata": {},
   "source": [
    "Prime number theorem gives that there are at least $\\frac{n}{log(n)}$ prime numbers less than n.  \n",
    "for my implementation I will be trying to use the suggestions given [here](https://stemhash.com/how-to-find-the-nth-prime-number/), but  \n",
    "the goal is not to copy so I will not reference the code provided  \n",
    "\n",
    "The algorithm we will be using is the Sieve of Eratosthenes which is good up to $n < 10^6$  \n",
    "[geeks for geeks](https://www.geeksforgeeks.org/sieve-of-eratosthenes/#) gives a good visualization"
   ]
  },
  {
   "cell_type": "code",
   "execution_count": 1,
   "id": "02fe9f4d-39ae-4003-9308-b27ce740c185",
   "metadata": {},
   "outputs": [],
   "source": [
    "import numpy as np\n",
    "def numPrimes(n):\n",
    "    return n/np.log(n)"
   ]
  },
  {
   "cell_type": "code",
   "execution_count": 2,
   "id": "fedb8335-61a7-49e9-b7a7-d582d57efe66",
   "metadata": {},
   "outputs": [],
   "source": [
    "nthPrime = 10001\n",
    "_ = 0\n",
    "n = 0\n",
    "while _ < nthPrime:\n",
    "    n += nthPrime\n",
    "    _ = int(numPrimes(n))"
   ]
  },
  {
   "cell_type": "code",
   "execution_count": 3,
   "id": "dbd7994a-3f96-4ab8-ba6b-db8144d8f43f",
   "metadata": {},
   "outputs": [
    {
     "name": "stdout",
     "output_type": "stream",
     "text": [
      "for a value of 120012 numbers, there are at least 10261 primes\n"
     ]
    }
   ],
   "source": [
    "print(f\"for a value of {n} numbers, there are at least {_} primes\")"
   ]
  },
  {
   "cell_type": "code",
   "execution_count": 5,
   "id": "888f1280-ac02-48a5-be20-ede3dfb7d1f9",
   "metadata": {},
   "outputs": [
    {
     "name": "stdout",
     "output_type": "stream",
     "text": [
      "the 10001-th prime number is 104743\n"
     ]
    }
   ],
   "source": [
    "#numbers = list(range(2,n + 1))\n",
    "numbersArr = np.array(range(2,n + 1))\n",
    "isPrime = np.bool_(np.ones(len(numbersArr)))\n",
    "for i,num in enumerate(numbersArr[isPrime]):\n",
    "    if isPrime[i] == True:\n",
    "        for idx in range(num - 2 + num, n-1, num):\n",
    "            isPrime[idx] = 0\n",
    "print(f\"the {nthPrime}-th prime number is {numbersArr[np.where(isPrime == True)][nthPrime - 1]}\")"
   ]
  },
  {
   "cell_type": "code",
   "execution_count": null,
   "id": "0ac69255-8501-49ea-a675-18e0ca40287a",
   "metadata": {},
   "outputs": [],
   "source": []
  }
 ],
 "metadata": {
  "kernelspec": {
   "display_name": "Python 3 (ipykernel)",
   "language": "python",
   "name": "python3"
  },
  "language_info": {
   "codemirror_mode": {
    "name": "ipython",
    "version": 3
   },
   "file_extension": ".py",
   "mimetype": "text/x-python",
   "name": "python",
   "nbconvert_exporter": "python",
   "pygments_lexer": "ipython3",
   "version": "3.11.5"
  }
 },
 "nbformat": 4,
 "nbformat_minor": 5
}
