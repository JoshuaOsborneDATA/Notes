{
 "cells": [
  {
   "cell_type": "markdown",
   "id": "3ef13901-9603-4156-879d-8bb46fc3c9dc",
   "metadata": {},
   "source": [
    "looking for the biggest multiple of 13 numbers next to each other. We can create a window of size 13 and slide it across the string  \n",
    "using python's join function we can add a multiplication symbol between each of the 13 numbers.  \n",
    "finally using eval to evaluate the string will give us the multiplication of the 13 number. From there it's just finding the biggest number"
   ]
  },
  {
   "cell_type": "code",
   "execution_count": 35,
   "id": "cfca9b93-a573-498f-94dc-98557227f305",
   "metadata": {},
   "outputs": [],
   "source": [
    "number = '''73167176531330624919225119674426574742355349194934\n",
    "96983520312774506326239578318016984801869478851843\n",
    "85861560789112949495459501737958331952853208805511\n",
    "12540698747158523863050715693290963295227443043557\n",
    "66896648950445244523161731856403098711121722383113\n",
    "62229893423380308135336276614282806444486645238749\n",
    "30358907296290491560440772390713810515859307960866\n",
    "70172427121883998797908792274921901699720888093776\n",
    "65727333001053367881220235421809751254540594752243\n",
    "52584907711670556013604839586446706324415722155397\n",
    "53697817977846174064955149290862569321978468622482\n",
    "83972241375657056057490261407972968652414535100474\n",
    "82166370484403199890008895243450658541227588666881\n",
    "16427171479924442928230863465674813919123162824586\n",
    "17866458359124566529476545682848912883142607690042\n",
    "24219022671055626321111109370544217506941658960408\n",
    "07198403850962455444362981230987879927244284909188\n",
    "84580156166097919133875499200524063689912560717606\n",
    "05886116467109405077541002256983155200055935729725\n",
    "71636269561882670428252483600823257530420752963450'''\n",
    "number = number.replace('\\n','')"
   ]
  },
  {
   "cell_type": "code",
   "execution_count": 36,
   "id": "16f670dd-5b59-4ccf-b235-9ce86a9ac3b2",
   "metadata": {},
   "outputs": [],
   "source": [
    "largestNum = 0\n",
    "for i in range(0,len(number) - 13):\n",
    "    #print(i)\n",
    "    _ = eval('*'.join(number[i:i + 13]))\n",
    "    if _ > largestNum:\n",
    "        largestNum = _"
   ]
  },
  {
   "cell_type": "code",
   "execution_count": 37,
   "id": "7bde3fd2-67aa-45e7-abf7-6ae5c1b82773",
   "metadata": {},
   "outputs": [
    {
     "data": {
      "text/plain": [
       "23514624000"
      ]
     },
     "execution_count": 37,
     "metadata": {},
     "output_type": "execute_result"
    }
   ],
   "source": [
    "largestNum"
   ]
  },
  {
   "cell_type": "code",
   "execution_count": null,
   "id": "e1bb5644-3049-4c9d-aa13-562040135e06",
   "metadata": {},
   "outputs": [],
   "source": []
  }
 ],
 "metadata": {
  "kernelspec": {
   "display_name": "Python 3 (ipykernel)",
   "language": "python",
   "name": "python3"
  },
  "language_info": {
   "codemirror_mode": {
    "name": "ipython",
    "version": 3
   },
   "file_extension": ".py",
   "mimetype": "text/x-python",
   "name": "python",
   "nbconvert_exporter": "python",
   "pygments_lexer": "ipython3",
   "version": "3.11.5"
  }
 },
 "nbformat": 4,
 "nbformat_minor": 5
}
