{
 "cells": [
  {
   "cell_type": "code",
   "execution_count": 15,
   "id": "89612dd6-8ba4-4526-90ad-2bba09f27674",
   "metadata": {},
   "outputs": [
    {
     "name": "stdout",
     "output_type": "stream",
     "text": [
      "1\n",
      "2\n",
      "3\n",
      "4\n"
     ]
    }
   ],
   "source": [
    "from scipy.special import factorial \n",
    "import numpy as np\n",
    "overall = 0\n",
    "n=2\n",
    "for i in range(1, 2**n + 1):\n",
    "    cosSum = 0\n",
    "    print(i)\n",
    "    if i ==1:\n",
    "        cosSum += int(np.cos( (factorial(0)+1) * np.pi )**2)\n",
    "    for j in range(1,i):\n",
    "        cosSum += int(np.cos( (factorial(j-1)+1)/j * np.pi )**2)\n",
    "    overall += int( (n/cosSum)**(1/n) )\n",
    "overall += 1"
   ]
  },
  {
   "cell_type": "code",
   "execution_count": 16,
   "id": "bb7cf157-5141-43a5-a54a-2a85bb758a96",
   "metadata": {},
   "outputs": [
    {
     "data": {
      "text/plain": [
       "4"
      ]
     },
     "execution_count": 16,
     "metadata": {},
     "output_type": "execute_result"
    }
   ],
   "source": [
    "overall"
   ]
  },
  {
   "cell_type": "code",
   "execution_count": null,
   "id": "0eb143b9-fe11-4169-8827-1280ad95cd0b",
   "metadata": {},
   "outputs": [],
   "source": []
  },
  {
   "cell_type": "code",
   "execution_count": null,
   "id": "c3b64329-a69e-4e1c-89a4-e21c13cf1683",
   "metadata": {},
   "outputs": [],
   "source": []
  }
 ],
 "metadata": {
  "kernelspec": {
   "display_name": "Python 3 (ipykernel)",
   "language": "python",
   "name": "python3"
  },
  "language_info": {
   "codemirror_mode": {
    "name": "ipython",
    "version": 3
   },
   "file_extension": ".py",
   "mimetype": "text/x-python",
   "name": "python",
   "nbconvert_exporter": "python",
   "pygments_lexer": "ipython3",
   "version": "3.11.5"
  }
 },
 "nbformat": 4,
 "nbformat_minor": 5
}
