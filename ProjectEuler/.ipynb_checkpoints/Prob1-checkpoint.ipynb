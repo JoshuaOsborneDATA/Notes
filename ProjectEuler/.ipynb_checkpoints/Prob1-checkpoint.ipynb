{
 "cells": [
  {
   "cell_type": "markdown",
   "id": "2e1a46c9-3d87-4bd4-9158-a970c63bcbde",
   "metadata": {},
   "source": [
    "We need to find all multiples of 3 and 5 up to 100  \n",
    "we can simply loop until the multiple of n\\*3 and m\\*5 > 100"
   ]
  },
  {
   "cell_type": "code",
   "execution_count": 14,
   "id": "aa180301-3e11-484f-9629-f7943b4c3320",
   "metadata": {},
   "outputs": [
    {
     "name": "stdout",
     "output_type": "stream",
     "text": [
      "233168\n"
     ]
    }
   ],
   "source": [
    "maxNum = 1000\n",
    "multiples = []\n",
    "fives = 0\n",
    "threes = 0\n",
    "\n",
    "#could also do a while loop here\n",
    "for i in range(maxNum//3):\n",
    "    fives += 5\n",
    "    threes += 3\n",
    "    if fives < maxNum:\n",
    "        multiples.append(fives)\n",
    "    multiples.append(threes)\n",
    "multiples = set(multiples)\n",
    "print(sum(multiples))"
   ]
  },
  {
   "cell_type": "code",
   "execution_count": null,
   "id": "d39909e8-e99f-4e46-8671-23410f1bb871",
   "metadata": {},
   "outputs": [],
   "source": []
  },
  {
   "cell_type": "code",
   "execution_count": null,
   "id": "f2ec6613-0178-4796-97b3-9d021a78aac0",
   "metadata": {},
   "outputs": [],
   "source": []
  }
 ],
 "metadata": {
  "kernelspec": {
   "display_name": "Python 3 (ipykernel)",
   "language": "python",
   "name": "python3"
  },
  "language_info": {
   "codemirror_mode": {
    "name": "ipython",
    "version": 3
   },
   "file_extension": ".py",
   "mimetype": "text/x-python",
   "name": "python",
   "nbconvert_exporter": "python",
   "pygments_lexer": "ipython3",
   "version": "3.11.5"
  }
 },
 "nbformat": 4,
 "nbformat_minor": 5
}
