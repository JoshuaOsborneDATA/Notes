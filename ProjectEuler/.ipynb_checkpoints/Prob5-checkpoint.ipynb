{
 "cells": [
  {
   "cell_type": "markdown",
   "id": "e43194cc-33b9-48c5-b0f1-b8321cf59224",
   "metadata": {},
   "source": [
    "__Using python library__"
   ]
  },
  {
   "cell_type": "code",
   "execution_count": 22,
   "id": "eae42b2b-acd1-4a83-a92b-31b4f0f42ef9",
   "metadata": {},
   "outputs": [
    {
     "data": {
      "text/plain": [
       "232792560"
      ]
     },
     "execution_count": 22,
     "metadata": {},
     "output_type": "execute_result"
    }
   ],
   "source": [
    "from math import lcm\n",
    "lcm(*np.arange(1,21) )"
   ]
  },
  {
   "cell_type": "markdown",
   "id": "7a392229-448f-42df-a3d6-0d44aaea0e3c",
   "metadata": {},
   "source": [
    "__using numpy library__"
   ]
  },
  {
   "cell_type": "code",
   "execution_count": 24,
   "id": "8cf629cf-75fe-4529-99e5-3accdfa3d87a",
   "metadata": {},
   "outputs": [
    {
     "data": {
      "text/plain": [
       "232792560"
      ]
     },
     "execution_count": 24,
     "metadata": {},
     "output_type": "execute_result"
    }
   ],
   "source": [
    "import numpy as np\n",
    "np.lcm.reduce(np.arange(1,21))"
   ]
  },
  {
   "cell_type": "markdown",
   "id": "7a026874-351f-410e-8101-ecd97fc195ff",
   "metadata": {},
   "source": [
    "__creating our own lcm__  \n",
    "1.) multiply a and b, this gives you __A__ multiple, not the least common multiple  \n",
    "2.) find greatest common divisor, this is the biggest divisor for the two numbers  \n",
    "3.) now lcm = a*b/gcd"
   ]
  },
  {
   "cell_type": "code",
   "execution_count": 81,
   "id": "b60e6840-a98c-4feb-900f-1ec3479ec103",
   "metadata": {},
   "outputs": [
    {
     "name": "stdout",
     "output_type": "stream",
     "text": [
      "232792560\n"
     ]
    }
   ],
   "source": [
    "from math import gcd\n",
    "from functools import reduce\n",
    "\n",
    "def getLcm(numbers):\n",
    "    #numbers = sorted(numbers)\n",
    "    a = numbers.pop(-1)\n",
    "    b = numbers.pop(0)\n",
    "    while len(numbers) > 0:\n",
    "        a,b = abs(a * b) // gcd(a, b), numbers.pop(0)\n",
    "        \n",
    "    a = abs(a * b) // gcd(a, b)\n",
    "    return a\n",
    "\n",
    "# Example usage:\n",
    "numbers = np.arange(1,21).tolist()\n",
    "result = getLcm(numbers)\n",
    "print(result)"
   ]
  },
  {
   "cell_type": "code",
   "execution_count": null,
   "id": "c3f6064b-36e3-4a2b-8eec-0613d34339b5",
   "metadata": {},
   "outputs": [],
   "source": []
  },
  {
   "cell_type": "code",
   "execution_count": null,
   "id": "53a50fb7-e08c-4a52-95e1-8381511c328c",
   "metadata": {},
   "outputs": [],
   "source": []
  },
  {
   "cell_type": "code",
   "execution_count": null,
   "id": "6526ff85-946f-4328-b753-ee9549d9049b",
   "metadata": {},
   "outputs": [],
   "source": []
  },
  {
   "cell_type": "code",
   "execution_count": null,
   "id": "61135797-a208-4e16-a04f-e4a20a28d737",
   "metadata": {},
   "outputs": [],
   "source": []
  }
 ],
 "metadata": {
  "kernelspec": {
   "display_name": "Python 3 (ipykernel)",
   "language": "python",
   "name": "python3"
  },
  "language_info": {
   "codemirror_mode": {
    "name": "ipython",
    "version": 3
   },
   "file_extension": ".py",
   "mimetype": "text/x-python",
   "name": "python",
   "nbconvert_exporter": "python",
   "pygments_lexer": "ipython3",
   "version": "3.11.5"
  }
 },
 "nbformat": 4,
 "nbformat_minor": 5
}
