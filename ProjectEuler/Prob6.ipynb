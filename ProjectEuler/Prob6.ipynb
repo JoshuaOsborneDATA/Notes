{
 "cells": [
  {
   "cell_type": "code",
   "execution_count": 82,
   "id": "7076adf8-a2ab-4305-82f3-07ae4835b303",
   "metadata": {},
   "outputs": [],
   "source": [
    "squaredSum = sum(np.arange(1, 101)**2)\n",
    "sumSquared = sum(np.arange(1, 101))**2"
   ]
  },
  {
   "cell_type": "code",
   "execution_count": 84,
   "id": "069d288b-5985-475e-91c7-085464775e0e",
   "metadata": {},
   "outputs": [
    {
     "name": "stdout",
     "output_type": "stream",
     "text": [
      "25164150\n"
     ]
    }
   ],
   "source": [
    "print(sumSquared - squaredSum)"
   ]
  }
 ],
 "metadata": {
  "kernelspec": {
   "display_name": "Python 3 (ipykernel)",
   "language": "python",
   "name": "python3"
  },
  "language_info": {
   "codemirror_mode": {
    "name": "ipython",
    "version": 3
   },
   "file_extension": ".py",
   "mimetype": "text/x-python",
   "name": "python",
   "nbconvert_exporter": "python",
   "pygments_lexer": "ipython3",
   "version": "3.11.5"
  }
 },
 "nbformat": 4,
 "nbformat_minor": 5
}
